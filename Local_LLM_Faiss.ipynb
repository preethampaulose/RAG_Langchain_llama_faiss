{
 "cells": [
  {
   "cell_type": "markdown",
   "id": "c99ae587",
   "metadata": {},
   "source": [
    "## Llama.cpp\n",
    "\n",
    "llama-cpp-python is a Python binding for llama.cpp.\n",
    "\n",
    "It supports inference for many LLMs models, which can be accessed on Hugging Face.\n",
    "\n",
    "You don’t need an API_TOKEN as you will run the LLM locally.\n",
    "\n",
    "__[TheBloke’s](https://huggingface.co/TheBloke)__ Hugging Face models have a Provided files section that exposes the RAM required to run models of different quantisation sizes and methods (eg: __[Llama2-7B-Chat-GGUF](https://huggingface.co/TheBloke/Llama-2-7B-Chat-GGUF#provided-files)__)."
   ]
  },
  {
   "cell_type": "markdown",
   "id": "3c6009c9",
   "metadata": {},
   "source": [
    "### How to download a .gguf file\n",
    "\n",
    "1. Install the huggingface-hub Python library: \n",
    "\n",
    "    ``` pip3 install huggingface-hub ```\n",
    "    \n",
    "    \n",
    "2. Download individual model file to current directory\n",
    "\n",
    "    ``` huggingface-cli download TheBloke/Llama-2-7B-Chat-GGUF llama-2-7b-chat.Q4_K_M.gguf --local-dir . --local-dir-use-symlinks False ```"
   ]
  },
  {
   "cell_type": "markdown",
   "id": "125da1dc",
   "metadata": {},
   "source": [
    "### Load all pdf files from directory"
   ]
  },
  {
   "cell_type": "code",
   "execution_count": null,
   "id": "9b5ac717",
   "metadata": {},
   "outputs": [],
   "source": [
    "from langchain_community.document_loaders import PyPDFDirectoryLoader\n",
    "\n",
    "loader = PyPDFDirectoryLoader(\"data\")\n",
    "pages_from_pdf = loader.load()"
   ]
  },
  {
   "cell_type": "markdown",
   "id": "9f88a42a",
   "metadata": {},
   "source": [
    "### Define the embedding model"
   ]
  },
  {
   "cell_type": "code",
   "execution_count": null,
   "id": "369d076c",
   "metadata": {},
   "outputs": [],
   "source": [
    "from langchain_community.embeddings import HuggingFaceEmbeddings\n",
    "\n",
    "embeddings = HuggingFaceEmbeddings(model_name = 'all-MiniLM-L6-v2')"
   ]
  },
  {
   "cell_type": "markdown",
   "id": "27ba0755",
   "metadata": {},
   "source": [
    "### Set the Faiss document store"
   ]
  },
  {
   "cell_type": "code",
   "execution_count": null,
   "id": "64361ed5",
   "metadata": {},
   "outputs": [],
   "source": [
    "from langchain.vectorstores import FAISS\n",
    "from langchain.text_splitter import CharacterTextSplitter\n",
    "\n",
    "text_splitter = CharacterTextSplitter(\n",
    "    chunk_size = 1000,\n",
    "    chunk_overlap = 200,\n",
    "    length_function = len,\n",
    ")\n",
    "\n",
    "docs = text_splitter.split_documents(pages_from_pdf)\n",
    "db = FAISS.from_documents(docs, embedding=embeddings)"
   ]
  },
  {
   "cell_type": "code",
   "execution_count": null,
   "id": "0eda51f2",
   "metadata": {},
   "outputs": [],
   "source": [
    "retriever = db.as_retriever()"
   ]
  },
  {
   "cell_type": "markdown",
   "id": "cf81dc7e",
   "metadata": {},
   "source": [
    "### Test the retriever"
   ]
  },
  {
   "cell_type": "code",
   "execution_count": null,
   "id": "7336cab4",
   "metadata": {},
   "outputs": [],
   "source": [
    "query = ''\n",
    "results = retriever.get_relevant_documents(query)\n",
    "print(results)"
   ]
  },
  {
   "cell_type": "markdown",
   "id": "8ebcdc4d",
   "metadata": {},
   "source": [
    "### Load the local LLM"
   ]
  },
  {
   "cell_type": "code",
   "execution_count": null,
   "id": "9a2c7309",
   "metadata": {},
   "outputs": [],
   "source": [
    "from langchain_community.llms import LlamaCpp\n",
    "from langchain_core.callbacks import CallbackManager, StreamingStdOutCallbackHandler\n",
    "from langchain_core.prompts import PromptTemplate"
   ]
  },
  {
   "cell_type": "code",
   "execution_count": null,
   "id": "9f82014e",
   "metadata": {},
   "outputs": [],
   "source": [
    "template = \"\"\"Question: {question}\n",
    "\n",
    "Answer: Let's work this out in a step by step way to be sure we have the right answer.\"\"\"\n",
    "\n",
    "prompt = PromptTemplate.from_template(template)\n",
    "\n",
    "# Callbacks support token-wise streaming\n",
    "callback_manager = CallbackManager([StreamingStdOutCallbackHandler()])"
   ]
  },
  {
   "cell_type": "code",
   "execution_count": null,
   "id": "076b353d",
   "metadata": {},
   "outputs": [],
   "source": [
    "# Make sure the model path is correct for your system!\n",
    "llm = LlamaCpp(\n",
    "    model_path=\"models\\mistral-7b-instruct-v0.1.Q4_K_M.gguf\",\n",
    "    temperature=0.75,\n",
    "    max_tokens=2000,\n",
    "    context_length=6000,\n",
    "    max_new_tokens=4096,\n",
    "    n_ctx=4096,\n",
    "    top_p=1,\n",
    "    callback_manager=callback_manager,\n",
    "    verbose=True,  # Verbose is required to pass to the callback manager\n",
    ")"
   ]
  },
  {
   "cell_type": "code",
   "execution_count": null,
   "id": "01e4ef3b",
   "metadata": {},
   "outputs": [],
   "source": [
    "from langchain.chain import RetrievalQA\n",
    "QA_CHAIN_PROMPT = PrmptTemplate.from_template(template)\n",
    "qa = RetrievalQA.from_chain_type(llm, retriever=retriever, return_source_documents=True, chain_type_kwargs={'prompt':QA_CHAIN_PROMPT})"
   ]
  },
  {
   "cell_type": "code",
   "execution_count": null,
   "id": "dd93342e",
   "metadata": {},
   "outputs": [],
   "source": [
    "query = 'my question'"
   ]
  },
  {
   "cell_type": "code",
   "execution_count": null,
   "id": "ff6f692d",
   "metadata": {},
   "outputs": [],
   "source": [
    "result = qa({'query': query})"
   ]
  }
 ],
 "metadata": {
  "kernelspec": {
   "display_name": "Python 3 (ipykernel)",
   "language": "python",
   "name": "python3"
  },
  "language_info": {
   "codemirror_mode": {
    "name": "ipython",
    "version": 3
   },
   "file_extension": ".py",
   "mimetype": "text/x-python",
   "name": "python",
   "nbconvert_exporter": "python",
   "pygments_lexer": "ipython3",
   "version": "3.9.15"
  }
 },
 "nbformat": 4,
 "nbformat_minor": 5
}
